{
 "cells": [
  {
   "cell_type": "markdown",
   "id": "ccdba609",
   "metadata": {
    "id": "ILKAV_DUo6Ud",
    "papermill": {
     "duration": 0.002812,
     "end_time": "2025-06-25T11:42:27.369819",
     "exception": false,
     "start_time": "2025-06-25T11:42:27.367007",
     "status": "completed"
    },
    "tags": []
   },
   "source": [
    "# **Start**"
   ]
  },
  {
   "cell_type": "code",
   "execution_count": 1,
   "id": "2440f8b3",
   "metadata": {
    "execution": {
     "iopub.execute_input": "2025-06-25T11:42:27.375982Z",
     "iopub.status.busy": "2025-06-25T11:42:27.375693Z",
     "iopub.status.idle": "2025-06-25T11:42:45.050998Z",
     "shell.execute_reply": "2025-06-25T11:42:45.050328Z"
    },
    "id": "G7q2pN1NDgym",
    "outputId": "33ddccbc-41da-4a8b-8457-49371b474d27",
    "papermill": {
     "duration": 17.680152,
     "end_time": "2025-06-25T11:42:45.052634",
     "exception": false,
     "start_time": "2025-06-25T11:42:27.372482",
     "status": "completed"
    },
    "tags": []
   },
   "outputs": [
    {
     "name": "stderr",
     "output_type": "stream",
     "text": [
      "2025-06-25 11:42:29.067861: E external/local_xla/xla/stream_executor/cuda/cuda_fft.cc:477] Unable to register cuFFT factory: Attempting to register factory for plugin cuFFT when one has already been registered\n",
      "WARNING: All log messages before absl::InitializeLog() is called are written to STDERR\n",
      "E0000 00:00:1750851749.271744      19 cuda_dnn.cc:8310] Unable to register cuDNN factory: Attempting to register factory for plugin cuDNN when one has already been registered\n",
      "E0000 00:00:1750851749.331600      19 cuda_blas.cc:1418] Unable to register cuBLAS factory: Attempting to register factory for plugin cuBLAS when one has already been registered\n"
     ]
    }
   ],
   "source": [
    "# --- STEP 1: Import Libraries and Mount Drive ---\n",
    "import numpy as np\n",
    "import joblib\n",
    "import tensorflow as tf\n",
    "import math\n",
    "import matplotlib.pyplot as plt\n",
    "import seaborn as sns\n",
    "from sklearn.model_selection import train_test_split\n",
    "from sklearn.preprocessing import StandardScaler\n",
    "from sklearn.metrics import classification_report, confusion_matrix\n",
    "from tensorflow.keras.models import Sequential\n",
    "from tensorflow.keras.layers import Conv2D, MaxPooling2D, Flatten, Dense, Dropout, BatchNormalization\n",
    "from tensorflow.keras.utils import to_categorical, Sequence\n",
    "from tensorflow.keras.callbacks import EarlyStopping\n",
    "from tensorflow.keras.optimizers import Adam"
   ]
  },
  {
   "cell_type": "code",
   "execution_count": 2,
   "id": "bf0555e0",
   "metadata": {
    "execution": {
     "iopub.execute_input": "2025-06-25T11:42:45.059238Z",
     "iopub.status.busy": "2025-06-25T11:42:45.058731Z",
     "iopub.status.idle": "2025-06-25T11:42:45.063310Z",
     "shell.execute_reply": "2025-06-25T11:42:45.062687Z"
    },
    "id": "41pLRFxYDkam",
    "papermill": {
     "duration": 0.009002,
     "end_time": "2025-06-25T11:42:45.064538",
     "exception": false,
     "start_time": "2025-06-25T11:42:45.055536",
     "status": "completed"
    },
    "tags": []
   },
   "outputs": [],
   "source": [
    "\n",
    "# --- STEP 2: Configuration - Set Your File Paths ---\n",
    "# ---!!! IMPORTANT: UPDATE THESE PATHS !!!---\n",
    "processed_data_path = \"/kaggle/input/classified-data/cnn_prepared_patches.npz\"\n",
    "scaler_save_path = \"/kaggle/working/cnn_scaler.joblib\"\n",
    "model_save_path = \"/kaggle/working/cnn_lulc_model_final.keras\"\n",
    "# Define the number of classes and their names for plotting\n",
    "NUM_CLASSES = 6\n",
    "# Optional: Specify class names for better confusion matrix labels\n",
    "CLASS_NAMES = [\n",
    "        'Forest',       # 0\n",
    "        'Water',        # 1\n",
    "        'Agriculture',  # 2\n",
    "        'Settlement',   # 3\n",
    "        'Mining',       # 4\n",
    "        'Barren'        # 5\n",
    "    ]\n",
    "\n",
    "BATCH_SIZE = 64"
   ]
  },
  {
   "cell_type": "code",
   "execution_count": 3,
   "id": "d3263aca",
   "metadata": {
    "execution": {
     "iopub.execute_input": "2025-06-25T11:42:45.070358Z",
     "iopub.status.busy": "2025-06-25T11:42:45.070131Z",
     "iopub.status.idle": "2025-06-25T11:42:45.078677Z",
     "shell.execute_reply": "2025-06-25T11:42:45.077836Z"
    },
    "id": "fRv2Q-tXD79O",
    "papermill": {
     "duration": 0.012944,
     "end_time": "2025-06-25T11:42:45.079966",
     "exception": false,
     "start_time": "2025-06-25T11:42:45.067022",
     "status": "completed"
    },
    "tags": []
   },
   "outputs": [],
   "source": [
    "# --- An Improved, Faster Data Generator ---\n",
    "class DataGenerator(Sequence):\n",
    "    \"\"\"\n",
    "    Generates batches of data on-the-fly.\n",
    "    This improved version opens the data file only once for efficiency.\n",
    "    \"\"\"\n",
    "    def __init__(self, npz_path, list_IDs, y_data, scaler, batch_size, num_classes):\n",
    "        self.npz_path = npz_path\n",
    "        self.list_IDs = list_IDs\n",
    "        self.y_data = y_data\n",
    "        self.scaler = scaler\n",
    "        self.batch_size = batch_size\n",
    "        self.num_classes = num_classes\n",
    "        # Open the memory-mapped file handle ONCE and keep it open\n",
    "        self.npz_file = np.load(self.npz_path, 'r')\n",
    "        self.x_data_mmap = self.npz_file['x_data']\n",
    "        self.on_epoch_end()\n",
    "\n",
    "    def __len__(self):\n",
    "        \"\"\"Returns the number of batches per epoch.\"\"\"\n",
    "        return math.ceil(len(self.list_IDs) / self.batch_size)\n",
    "\n",
    "    def __getitem__(self, index):\n",
    "        \"\"\"Generate one batch of data.\"\"\"\n",
    "        indexes = self.list_IDs[index * self.batch_size:(index + 1) * self.batch_size]\n",
    "        X, y = self.__data_generation(indexes)\n",
    "        return X, y\n",
    "\n",
    "    def on_epoch_end(self):\n",
    "        \"\"\"Shuffles indexes at the end of each epoch.\"\"\"\n",
    "        np.random.shuffle(self.list_IDs)\n",
    "\n",
    "    def __data_generation(self, list_IDs_temp):\n",
    "        \"\"\"Generates data containing batch_size samples.\"\"\"\n",
    "        # Use the persistent file handle instead of re-opening\n",
    "        X_batch = self.x_data_mmap[list_IDs_temp].astype(np.float32)\n",
    "        y_batch_labels = self.y_data[list_IDs_temp]\n",
    "\n",
    "        # --- Preprocess the batch (same as before) ---\n",
    "        X_batch = np.nan_to_num(X_batch, nan=0.0, posinf=0.0, neginf=0.0)\n",
    "        h, w, num_bands = X_batch.shape[1], X_batch.shape[2], X_batch.shape[3]\n",
    "        X_reshaped = X_batch.reshape(-1, num_bands)\n",
    "        X_scaled = self.scaler.transform(X_reshaped)\n",
    "        X_final = X_scaled.reshape(-1, h, w, num_bands)\n",
    "        y_final = to_categorical(y_batch_labels, num_classes=self.num_classes)\n",
    "        return X_final, y_final\n",
    "    \n",
    "    # It's good practice to add a method to close the file when you're done\n",
    "    def close(self):\n",
    "        self.npz_file.close()"
   ]
  },
  {
   "cell_type": "code",
   "execution_count": 4,
   "id": "31ec903b",
   "metadata": {
    "execution": {
     "iopub.execute_input": "2025-06-25T11:42:45.085973Z",
     "iopub.status.busy": "2025-06-25T11:42:45.085744Z",
     "iopub.status.idle": "2025-06-25T11:46:45.218809Z",
     "shell.execute_reply": "2025-06-25T11:46:45.217881Z"
    },
    "id": "VAvuF7HQLkyy",
    "outputId": "ac9a2ade-2e24-4903-d885-1886b13e69c9",
    "papermill": {
     "duration": 240.139404,
     "end_time": "2025-06-25T11:46:45.221817",
     "exception": false,
     "start_time": "2025-06-25T11:42:45.082413",
     "status": "completed"
    },
    "tags": []
   },
   "outputs": [
    {
     "name": "stdout",
     "output_type": "stream",
     "text": [
      "Preparing data indices and scaler...\n",
      "Dataset has 29640 samples.\n",
      "Fitting StandardScaler in chunks to conserve memory...\n",
      "Scaler fitted successfully.\n",
      "Scaler saved to /kaggle/working/cnn_scaler.joblib\n",
      "Training samples: 17784\n",
      "Validation samples: 5928\n",
      "Test samples: 5928\n",
      "Data preparation complete.\n"
     ]
    }
   ],
   "source": [
    "# --- STEP 4: Prepare Indices and Fit Scaler Memory-Efficiently ---\n",
    "print(\"Preparing data indices and scaler...\")\n",
    "\n",
    "# Load only the labels (y_data), which should be small enough for memory.\n",
    "# Also get the shape of X without loading it.\n",
    "with np.load(processed_data_path, 'r') as data:\n",
    "    y_data = data['y_data']\n",
    "    x_shape = data['x_data'].shape\n",
    "    num_samples = x_shape[0]\n",
    "    patch_size_h, patch_size_w, num_bands = x_shape[1], x_shape[2], x_shape[3]\n",
    "print(f\"Dataset has {num_samples} samples.\")\n",
    "\n",
    "# Fit the StandardScaler by iterating through data in chunks\n",
    "print(\"Fitting StandardScaler in chunks to conserve memory...\")\n",
    "scaler = StandardScaler()\n",
    "chunk_size = 2000 # Process 2000 samples at a time\n",
    "with np.load(processed_data_path, 'r') as data:\n",
    "    x_data_mmap = data['x_data']\n",
    "    for i in range(0, num_samples, chunk_size):\n",
    "        chunk = x_data_mmap[i:i + chunk_size].astype(np.float32)\n",
    "        chunk = np.nan_to_num(chunk)\n",
    "        scaler.partial_fit(chunk.reshape(-1, num_bands))\n",
    "print(\"Scaler fitted successfully.\")\n",
    "joblib.dump(scaler, scaler_save_path)\n",
    "print(f\"Scaler saved to {scaler_save_path}\")\n",
    "\n",
    "# Create an array of indices [0, 1, 2, ..., n-1]\n",
    "indices = np.arange(num_samples)\n",
    "\n",
    "# Split indices and labels into train, validation, and test sets\n",
    "y_labels_for_stratify = y_data\n",
    "y_cat_for_stratify = to_categorical(y_labels_for_stratify, num_classes=NUM_CLASSES)\n",
    "\n",
    "# First split (80% train+val, 20% test)\n",
    "train_val_indices, test_indices, _, y_test_labels_s = train_test_split(\n",
    "    indices, y_cat_for_stratify, test_size=0.20, random_state=42, stratify=y_cat_for_stratify\n",
    ")\n",
    "\n",
    "# Second split (60% train, 20% validation)\n",
    "train_indices, val_indices = train_test_split(\n",
    "    train_val_indices, test_size=0.25, random_state=42, stratify=y_cat_for_stratify[train_val_indices]\n",
    ")\n",
    "\n",
    "# Instantiate the generators\n",
    "training_generator = DataGenerator(processed_data_path, train_indices, y_data, scaler, BATCH_SIZE, NUM_CLASSES)\n",
    "validation_generator = DataGenerator(processed_data_path, val_indices, y_data, scaler, BATCH_SIZE, NUM_CLASSES)\n",
    "testing_generator = DataGenerator(processed_data_path, test_indices, y_data, scaler, BATCH_SIZE, NUM_CLASSES)\n",
    "\n",
    "print(f\"Training samples: {len(train_indices)}\")\n",
    "print(f\"Validation samples: {len(val_indices)}\")\n",
    "print(f\"Test samples: {len(test_indices)}\")\n",
    "print(\"Data preparation complete.\")"
   ]
  },
  {
   "cell_type": "code",
   "execution_count": 5,
   "id": "b03a01fd",
   "metadata": {
    "execution": {
     "iopub.execute_input": "2025-06-25T11:46:45.227929Z",
     "iopub.status.busy": "2025-06-25T11:46:45.227640Z",
     "iopub.status.idle": "2025-06-25T11:46:47.836706Z",
     "shell.execute_reply": "2025-06-25T11:46:47.835768Z"
    },
    "id": "hBoZlICQLr0g",
    "outputId": "11cdce53-7faf-4b5d-d708-59bbb744300d",
    "papermill": {
     "duration": 2.613933,
     "end_time": "2025-06-25T11:46:47.838341",
     "exception": false,
     "start_time": "2025-06-25T11:46:45.224408",
     "status": "completed"
    },
    "tags": []
   },
   "outputs": [
    {
     "name": "stdout",
     "output_type": "stream",
     "text": [
      "\n",
      "Building the CNN model...\n",
      "Input shape for model: (64, 64, 11)\n"
     ]
    },
    {
     "name": "stderr",
     "output_type": "stream",
     "text": [
      "/usr/local/lib/python3.11/dist-packages/keras/src/layers/convolutional/base_conv.py:107: UserWarning: Do not pass an `input_shape`/`input_dim` argument to a layer. When using Sequential models, prefer using an `Input(shape)` object as the first layer in the model instead.\n",
      "  super().__init__(activity_regularizer=activity_regularizer, **kwargs)\n",
      "I0000 00:00:1750852006.507486      19 gpu_device.cc:2022] Created device /job:localhost/replica:0/task:0/device:GPU:0 with 13942 MB memory:  -> device: 0, name: Tesla T4, pci bus id: 0000:00:04.0, compute capability: 7.5\n",
      "I0000 00:00:1750852006.508347      19 gpu_device.cc:2022] Created device /job:localhost/replica:0/task:0/device:GPU:1 with 13942 MB memory:  -> device: 1, name: Tesla T4, pci bus id: 0000:00:05.0, compute capability: 7.5\n"
     ]
    },
    {
     "data": {
      "text/html": [
       "<pre style=\"white-space:pre;overflow-x:auto;line-height:normal;font-family:Menlo,'DejaVu Sans Mono',consolas,'Courier New',monospace\"><span style=\"font-weight: bold\">Model: \"sequential\"</span>\n",
       "</pre>\n"
      ],
      "text/plain": [
       "\u001b[1mModel: \"sequential\"\u001b[0m\n"
      ]
     },
     "metadata": {},
     "output_type": "display_data"
    },
    {
     "data": {
      "text/html": [
       "<pre style=\"white-space:pre;overflow-x:auto;line-height:normal;font-family:Menlo,'DejaVu Sans Mono',consolas,'Courier New',monospace\">┏━━━━━━━━━━━━━━━━━━━━━━━━━━━━━━━━━━━━━━┳━━━━━━━━━━━━━━━━━━━━━━━━━━━━━┳━━━━━━━━━━━━━━━━━┓\n",
       "┃<span style=\"font-weight: bold\"> Layer (type)                         </span>┃<span style=\"font-weight: bold\"> Output Shape                </span>┃<span style=\"font-weight: bold\">         Param # </span>┃\n",
       "┡━━━━━━━━━━━━━━━━━━━━━━━━━━━━━━━━━━━━━━╇━━━━━━━━━━━━━━━━━━━━━━━━━━━━━╇━━━━━━━━━━━━━━━━━┩\n",
       "│ conv2d (<span style=\"color: #0087ff; text-decoration-color: #0087ff\">Conv2D</span>)                      │ (<span style=\"color: #00d7ff; text-decoration-color: #00d7ff\">None</span>, <span style=\"color: #00af00; text-decoration-color: #00af00\">64</span>, <span style=\"color: #00af00; text-decoration-color: #00af00\">64</span>, <span style=\"color: #00af00; text-decoration-color: #00af00\">32</span>)          │           <span style=\"color: #00af00; text-decoration-color: #00af00\">3,200</span> │\n",
       "├──────────────────────────────────────┼─────────────────────────────┼─────────────────┤\n",
       "│ batch_normalization                  │ (<span style=\"color: #00d7ff; text-decoration-color: #00d7ff\">None</span>, <span style=\"color: #00af00; text-decoration-color: #00af00\">64</span>, <span style=\"color: #00af00; text-decoration-color: #00af00\">64</span>, <span style=\"color: #00af00; text-decoration-color: #00af00\">32</span>)          │             <span style=\"color: #00af00; text-decoration-color: #00af00\">128</span> │\n",
       "│ (<span style=\"color: #0087ff; text-decoration-color: #0087ff\">BatchNormalization</span>)                 │                             │                 │\n",
       "├──────────────────────────────────────┼─────────────────────────────┼─────────────────┤\n",
       "│ max_pooling2d (<span style=\"color: #0087ff; text-decoration-color: #0087ff\">MaxPooling2D</span>)         │ (<span style=\"color: #00d7ff; text-decoration-color: #00d7ff\">None</span>, <span style=\"color: #00af00; text-decoration-color: #00af00\">32</span>, <span style=\"color: #00af00; text-decoration-color: #00af00\">32</span>, <span style=\"color: #00af00; text-decoration-color: #00af00\">32</span>)          │               <span style=\"color: #00af00; text-decoration-color: #00af00\">0</span> │\n",
       "├──────────────────────────────────────┼─────────────────────────────┼─────────────────┤\n",
       "│ conv2d_1 (<span style=\"color: #0087ff; text-decoration-color: #0087ff\">Conv2D</span>)                    │ (<span style=\"color: #00d7ff; text-decoration-color: #00d7ff\">None</span>, <span style=\"color: #00af00; text-decoration-color: #00af00\">32</span>, <span style=\"color: #00af00; text-decoration-color: #00af00\">32</span>, <span style=\"color: #00af00; text-decoration-color: #00af00\">64</span>)          │          <span style=\"color: #00af00; text-decoration-color: #00af00\">18,496</span> │\n",
       "├──────────────────────────────────────┼─────────────────────────────┼─────────────────┤\n",
       "│ batch_normalization_1                │ (<span style=\"color: #00d7ff; text-decoration-color: #00d7ff\">None</span>, <span style=\"color: #00af00; text-decoration-color: #00af00\">32</span>, <span style=\"color: #00af00; text-decoration-color: #00af00\">32</span>, <span style=\"color: #00af00; text-decoration-color: #00af00\">64</span>)          │             <span style=\"color: #00af00; text-decoration-color: #00af00\">256</span> │\n",
       "│ (<span style=\"color: #0087ff; text-decoration-color: #0087ff\">BatchNormalization</span>)                 │                             │                 │\n",
       "├──────────────────────────────────────┼─────────────────────────────┼─────────────────┤\n",
       "│ max_pooling2d_1 (<span style=\"color: #0087ff; text-decoration-color: #0087ff\">MaxPooling2D</span>)       │ (<span style=\"color: #00d7ff; text-decoration-color: #00d7ff\">None</span>, <span style=\"color: #00af00; text-decoration-color: #00af00\">16</span>, <span style=\"color: #00af00; text-decoration-color: #00af00\">16</span>, <span style=\"color: #00af00; text-decoration-color: #00af00\">64</span>)          │               <span style=\"color: #00af00; text-decoration-color: #00af00\">0</span> │\n",
       "├──────────────────────────────────────┼─────────────────────────────┼─────────────────┤\n",
       "│ conv2d_2 (<span style=\"color: #0087ff; text-decoration-color: #0087ff\">Conv2D</span>)                    │ (<span style=\"color: #00d7ff; text-decoration-color: #00d7ff\">None</span>, <span style=\"color: #00af00; text-decoration-color: #00af00\">16</span>, <span style=\"color: #00af00; text-decoration-color: #00af00\">16</span>, <span style=\"color: #00af00; text-decoration-color: #00af00\">128</span>)         │          <span style=\"color: #00af00; text-decoration-color: #00af00\">73,856</span> │\n",
       "├──────────────────────────────────────┼─────────────────────────────┼─────────────────┤\n",
       "│ batch_normalization_2                │ (<span style=\"color: #00d7ff; text-decoration-color: #00d7ff\">None</span>, <span style=\"color: #00af00; text-decoration-color: #00af00\">16</span>, <span style=\"color: #00af00; text-decoration-color: #00af00\">16</span>, <span style=\"color: #00af00; text-decoration-color: #00af00\">128</span>)         │             <span style=\"color: #00af00; text-decoration-color: #00af00\">512</span> │\n",
       "│ (<span style=\"color: #0087ff; text-decoration-color: #0087ff\">BatchNormalization</span>)                 │                             │                 │\n",
       "├──────────────────────────────────────┼─────────────────────────────┼─────────────────┤\n",
       "│ max_pooling2d_2 (<span style=\"color: #0087ff; text-decoration-color: #0087ff\">MaxPooling2D</span>)       │ (<span style=\"color: #00d7ff; text-decoration-color: #00d7ff\">None</span>, <span style=\"color: #00af00; text-decoration-color: #00af00\">8</span>, <span style=\"color: #00af00; text-decoration-color: #00af00\">8</span>, <span style=\"color: #00af00; text-decoration-color: #00af00\">128</span>)           │               <span style=\"color: #00af00; text-decoration-color: #00af00\">0</span> │\n",
       "├──────────────────────────────────────┼─────────────────────────────┼─────────────────┤\n",
       "│ flatten (<span style=\"color: #0087ff; text-decoration-color: #0087ff\">Flatten</span>)                    │ (<span style=\"color: #00d7ff; text-decoration-color: #00d7ff\">None</span>, <span style=\"color: #00af00; text-decoration-color: #00af00\">8192</span>)                │               <span style=\"color: #00af00; text-decoration-color: #00af00\">0</span> │\n",
       "├──────────────────────────────────────┼─────────────────────────────┼─────────────────┤\n",
       "│ dense (<span style=\"color: #0087ff; text-decoration-color: #0087ff\">Dense</span>)                        │ (<span style=\"color: #00d7ff; text-decoration-color: #00d7ff\">None</span>, <span style=\"color: #00af00; text-decoration-color: #00af00\">128</span>)                 │       <span style=\"color: #00af00; text-decoration-color: #00af00\">1,048,704</span> │\n",
       "├──────────────────────────────────────┼─────────────────────────────┼─────────────────┤\n",
       "│ dropout (<span style=\"color: #0087ff; text-decoration-color: #0087ff\">Dropout</span>)                    │ (<span style=\"color: #00d7ff; text-decoration-color: #00d7ff\">None</span>, <span style=\"color: #00af00; text-decoration-color: #00af00\">128</span>)                 │               <span style=\"color: #00af00; text-decoration-color: #00af00\">0</span> │\n",
       "├──────────────────────────────────────┼─────────────────────────────┼─────────────────┤\n",
       "│ dense_1 (<span style=\"color: #0087ff; text-decoration-color: #0087ff\">Dense</span>)                      │ (<span style=\"color: #00d7ff; text-decoration-color: #00d7ff\">None</span>, <span style=\"color: #00af00; text-decoration-color: #00af00\">6</span>)                   │             <span style=\"color: #00af00; text-decoration-color: #00af00\">774</span> │\n",
       "└──────────────────────────────────────┴─────────────────────────────┴─────────────────┘\n",
       "</pre>\n"
      ],
      "text/plain": [
       "┏━━━━━━━━━━━━━━━━━━━━━━━━━━━━━━━━━━━━━━┳━━━━━━━━━━━━━━━━━━━━━━━━━━━━━┳━━━━━━━━━━━━━━━━━┓\n",
       "┃\u001b[1m \u001b[0m\u001b[1mLayer (type)                        \u001b[0m\u001b[1m \u001b[0m┃\u001b[1m \u001b[0m\u001b[1mOutput Shape               \u001b[0m\u001b[1m \u001b[0m┃\u001b[1m \u001b[0m\u001b[1m        Param #\u001b[0m\u001b[1m \u001b[0m┃\n",
       "┡━━━━━━━━━━━━━━━━━━━━━━━━━━━━━━━━━━━━━━╇━━━━━━━━━━━━━━━━━━━━━━━━━━━━━╇━━━━━━━━━━━━━━━━━┩\n",
       "│ conv2d (\u001b[38;5;33mConv2D\u001b[0m)                      │ (\u001b[38;5;45mNone\u001b[0m, \u001b[38;5;34m64\u001b[0m, \u001b[38;5;34m64\u001b[0m, \u001b[38;5;34m32\u001b[0m)          │           \u001b[38;5;34m3,200\u001b[0m │\n",
       "├──────────────────────────────────────┼─────────────────────────────┼─────────────────┤\n",
       "│ batch_normalization                  │ (\u001b[38;5;45mNone\u001b[0m, \u001b[38;5;34m64\u001b[0m, \u001b[38;5;34m64\u001b[0m, \u001b[38;5;34m32\u001b[0m)          │             \u001b[38;5;34m128\u001b[0m │\n",
       "│ (\u001b[38;5;33mBatchNormalization\u001b[0m)                 │                             │                 │\n",
       "├──────────────────────────────────────┼─────────────────────────────┼─────────────────┤\n",
       "│ max_pooling2d (\u001b[38;5;33mMaxPooling2D\u001b[0m)         │ (\u001b[38;5;45mNone\u001b[0m, \u001b[38;5;34m32\u001b[0m, \u001b[38;5;34m32\u001b[0m, \u001b[38;5;34m32\u001b[0m)          │               \u001b[38;5;34m0\u001b[0m │\n",
       "├──────────────────────────────────────┼─────────────────────────────┼─────────────────┤\n",
       "│ conv2d_1 (\u001b[38;5;33mConv2D\u001b[0m)                    │ (\u001b[38;5;45mNone\u001b[0m, \u001b[38;5;34m32\u001b[0m, \u001b[38;5;34m32\u001b[0m, \u001b[38;5;34m64\u001b[0m)          │          \u001b[38;5;34m18,496\u001b[0m │\n",
       "├──────────────────────────────────────┼─────────────────────────────┼─────────────────┤\n",
       "│ batch_normalization_1                │ (\u001b[38;5;45mNone\u001b[0m, \u001b[38;5;34m32\u001b[0m, \u001b[38;5;34m32\u001b[0m, \u001b[38;5;34m64\u001b[0m)          │             \u001b[38;5;34m256\u001b[0m │\n",
       "│ (\u001b[38;5;33mBatchNormalization\u001b[0m)                 │                             │                 │\n",
       "├──────────────────────────────────────┼─────────────────────────────┼─────────────────┤\n",
       "│ max_pooling2d_1 (\u001b[38;5;33mMaxPooling2D\u001b[0m)       │ (\u001b[38;5;45mNone\u001b[0m, \u001b[38;5;34m16\u001b[0m, \u001b[38;5;34m16\u001b[0m, \u001b[38;5;34m64\u001b[0m)          │               \u001b[38;5;34m0\u001b[0m │\n",
       "├──────────────────────────────────────┼─────────────────────────────┼─────────────────┤\n",
       "│ conv2d_2 (\u001b[38;5;33mConv2D\u001b[0m)                    │ (\u001b[38;5;45mNone\u001b[0m, \u001b[38;5;34m16\u001b[0m, \u001b[38;5;34m16\u001b[0m, \u001b[38;5;34m128\u001b[0m)         │          \u001b[38;5;34m73,856\u001b[0m │\n",
       "├──────────────────────────────────────┼─────────────────────────────┼─────────────────┤\n",
       "│ batch_normalization_2                │ (\u001b[38;5;45mNone\u001b[0m, \u001b[38;5;34m16\u001b[0m, \u001b[38;5;34m16\u001b[0m, \u001b[38;5;34m128\u001b[0m)         │             \u001b[38;5;34m512\u001b[0m │\n",
       "│ (\u001b[38;5;33mBatchNormalization\u001b[0m)                 │                             │                 │\n",
       "├──────────────────────────────────────┼─────────────────────────────┼─────────────────┤\n",
       "│ max_pooling2d_2 (\u001b[38;5;33mMaxPooling2D\u001b[0m)       │ (\u001b[38;5;45mNone\u001b[0m, \u001b[38;5;34m8\u001b[0m, \u001b[38;5;34m8\u001b[0m, \u001b[38;5;34m128\u001b[0m)           │               \u001b[38;5;34m0\u001b[0m │\n",
       "├──────────────────────────────────────┼─────────────────────────────┼─────────────────┤\n",
       "│ flatten (\u001b[38;5;33mFlatten\u001b[0m)                    │ (\u001b[38;5;45mNone\u001b[0m, \u001b[38;5;34m8192\u001b[0m)                │               \u001b[38;5;34m0\u001b[0m │\n",
       "├──────────────────────────────────────┼─────────────────────────────┼─────────────────┤\n",
       "│ dense (\u001b[38;5;33mDense\u001b[0m)                        │ (\u001b[38;5;45mNone\u001b[0m, \u001b[38;5;34m128\u001b[0m)                 │       \u001b[38;5;34m1,048,704\u001b[0m │\n",
       "├──────────────────────────────────────┼─────────────────────────────┼─────────────────┤\n",
       "│ dropout (\u001b[38;5;33mDropout\u001b[0m)                    │ (\u001b[38;5;45mNone\u001b[0m, \u001b[38;5;34m128\u001b[0m)                 │               \u001b[38;5;34m0\u001b[0m │\n",
       "├──────────────────────────────────────┼─────────────────────────────┼─────────────────┤\n",
       "│ dense_1 (\u001b[38;5;33mDense\u001b[0m)                      │ (\u001b[38;5;45mNone\u001b[0m, \u001b[38;5;34m6\u001b[0m)                   │             \u001b[38;5;34m774\u001b[0m │\n",
       "└──────────────────────────────────────┴─────────────────────────────┴─────────────────┘\n"
      ]
     },
     "metadata": {},
     "output_type": "display_data"
    },
    {
     "data": {
      "text/html": [
       "<pre style=\"white-space:pre;overflow-x:auto;line-height:normal;font-family:Menlo,'DejaVu Sans Mono',consolas,'Courier New',monospace\"><span style=\"font-weight: bold\"> Total params: </span><span style=\"color: #00af00; text-decoration-color: #00af00\">1,145,926</span> (4.37 MB)\n",
       "</pre>\n"
      ],
      "text/plain": [
       "\u001b[1m Total params: \u001b[0m\u001b[38;5;34m1,145,926\u001b[0m (4.37 MB)\n"
      ]
     },
     "metadata": {},
     "output_type": "display_data"
    },
    {
     "data": {
      "text/html": [
       "<pre style=\"white-space:pre;overflow-x:auto;line-height:normal;font-family:Menlo,'DejaVu Sans Mono',consolas,'Courier New',monospace\"><span style=\"font-weight: bold\"> Trainable params: </span><span style=\"color: #00af00; text-decoration-color: #00af00\">1,145,478</span> (4.37 MB)\n",
       "</pre>\n"
      ],
      "text/plain": [
       "\u001b[1m Trainable params: \u001b[0m\u001b[38;5;34m1,145,478\u001b[0m (4.37 MB)\n"
      ]
     },
     "metadata": {},
     "output_type": "display_data"
    },
    {
     "data": {
      "text/html": [
       "<pre style=\"white-space:pre;overflow-x:auto;line-height:normal;font-family:Menlo,'DejaVu Sans Mono',consolas,'Courier New',monospace\"><span style=\"font-weight: bold\"> Non-trainable params: </span><span style=\"color: #00af00; text-decoration-color: #00af00\">448</span> (1.75 KB)\n",
       "</pre>\n"
      ],
      "text/plain": [
       "\u001b[1m Non-trainable params: \u001b[0m\u001b[38;5;34m448\u001b[0m (1.75 KB)\n"
      ]
     },
     "metadata": {},
     "output_type": "display_data"
    }
   ],
   "source": [
    "\n",
    "# --- STEP 5: Build and Compile the CNN Model ---\n",
    "print(\"\\nBuilding the CNN model...\")\n",
    "\n",
    "# These variables should be defined from your Step 4\n",
    "print(f\"Input shape for model: ({patch_size_h}, {patch_size_w}, {num_bands})\")\n",
    "\n",
    "model = Sequential([\n",
    "    # IMPORTANT: The input_shape is now correctly defined\n",
    "    # Block 1\n",
    "    Conv2D(32, (3, 3), activation='relu', padding='same',\n",
    "           input_shape=(patch_size_h, patch_size_w, num_bands)),\n",
    "    BatchNormalization(),\n",
    "    MaxPooling2D((2, 2)),\n",
    "\n",
    "    # Block 2\n",
    "    Conv2D(64, (3, 3), activation='relu', padding='same'),\n",
    "    BatchNormalization(),\n",
    "    MaxPooling2D((2, 2)),\n",
    "\n",
    "    # Block 3\n",
    "    Conv2D(128, (3, 3), activation='relu', padding='same'),\n",
    "    BatchNormalization(),\n",
    "    MaxPooling2D((2, 2)),\n",
    "\n",
    "    # Flatten and Dense layers\n",
    "    Flatten(),\n",
    "    Dense(128, activation='relu'),\n",
    "    Dropout(0.5), # Dropout helps prevent overfitting\n",
    "    Dense(NUM_CLASSES, activation='softmax') # Softmax for multi-class classification\n",
    "])\n",
    "\n",
    "# Use the recommended stable optimizer and compile the model\n",
    "optimizer = Adam(learning_rate=0.001, clipnorm=1.0)\n",
    "model.compile(optimizer=optimizer,\n",
    "              loss='categorical_crossentropy',\n",
    "              metrics=['accuracy'])\n",
    "\n",
    "# Print a summary of the model architecture\n",
    "model.summary()\n",
    "\n",
    "\n"
   ]
  },
  {
   "cell_type": "code",
   "execution_count": 6,
   "id": "bb857767",
   "metadata": {
    "execution": {
     "iopub.execute_input": "2025-06-25T11:46:47.849443Z",
     "iopub.status.busy": "2025-06-25T11:46:47.849181Z",
     "iopub.status.idle": "2025-06-25T11:49:08.688906Z",
     "shell.execute_reply": "2025-06-25T11:49:08.688268Z"
    },
    "id": "cKfqvbIrLwDi",
    "papermill": {
     "duration": 140.84594,
     "end_time": "2025-06-25T11:49:08.690106",
     "exception": false,
     "start_time": "2025-06-25T11:46:47.844166",
     "status": "completed"
    },
    "tags": []
   },
   "outputs": [
    {
     "name": "stdout",
     "output_type": "stream",
     "text": [
      "\n",
      "Starting model training with data generators...\n"
     ]
    },
    {
     "name": "stderr",
     "output_type": "stream",
     "text": [
      "/usr/local/lib/python3.11/dist-packages/keras/src/trainers/data_adapters/py_dataset_adapter.py:121: UserWarning: Your `PyDataset` class should call `super().__init__(**kwargs)` in its constructor. `**kwargs` can include `workers`, `use_multiprocessing`, `max_queue_size`. Do not pass these arguments to `fit()`, as they will be ignored.\n",
      "  self._warn_if_super_not_called()\n"
     ]
    },
    {
     "name": "stdout",
     "output_type": "stream",
     "text": [
      "Epoch 1/5\n"
     ]
    },
    {
     "name": "stderr",
     "output_type": "stream",
     "text": [
      "WARNING: All log messages before absl::InitializeLog() is called are written to STDERR\n",
      "I0000 00:00:1750852013.180285      64 service.cc:148] XLA service 0x7eb8640020b0 initialized for platform CUDA (this does not guarantee that XLA will be used). Devices:\n",
      "I0000 00:00:1750852013.181138      64 service.cc:156]   StreamExecutor device (0): Tesla T4, Compute Capability 7.5\n",
      "I0000 00:00:1750852013.181170      64 service.cc:156]   StreamExecutor device (1): Tesla T4, Compute Capability 7.5\n",
      "I0000 00:00:1750852013.886961      64 cuda_dnn.cc:529] Loaded cuDNN version 90300\n"
     ]
    },
    {
     "name": "stdout",
     "output_type": "stream",
     "text": [
      "\u001b[1m  3/278\u001b[0m \u001b[37m━━━━━━━━━━━━━━━━━━━━\u001b[0m \u001b[1m15s\u001b[0m 57ms/step - accuracy: 0.3741 - loss: 2.7445 "
     ]
    },
    {
     "name": "stderr",
     "output_type": "stream",
     "text": [
      "I0000 00:00:1750852018.574184      64 device_compiler.h:188] Compiled cluster using XLA!  This line is logged at most once for the lifetime of the process.\n"
     ]
    },
    {
     "name": "stdout",
     "output_type": "stream",
     "text": [
      "\u001b[1m278/278\u001b[0m \u001b[32m━━━━━━━━━━━━━━━━━━━━\u001b[0m\u001b[37m\u001b[0m \u001b[1m0s\u001b[0m 78ms/step - accuracy: 0.9287 - loss: 0.3839"
     ]
    },
    {
     "name": "stderr",
     "output_type": "stream",
     "text": [
      "/usr/local/lib/python3.11/dist-packages/keras/src/trainers/data_adapters/py_dataset_adapter.py:121: UserWarning: Your `PyDataset` class should call `super().__init__(**kwargs)` in its constructor. `**kwargs` can include `workers`, `use_multiprocessing`, `max_queue_size`. Do not pass these arguments to `fit()`, as they will be ignored.\n",
      "  self._warn_if_super_not_called()\n"
     ]
    },
    {
     "name": "stdout",
     "output_type": "stream",
     "text": [
      "\u001b[1m278/278\u001b[0m \u001b[32m━━━━━━━━━━━━━━━━━━━━\u001b[0m\u001b[37m\u001b[0m \u001b[1m40s\u001b[0m 107ms/step - accuracy: 0.9289 - loss: 0.3834 - val_accuracy: 0.9968 - val_loss: 0.0401 - learning_rate: 0.0010\n",
      "Epoch 2/5\n",
      "\u001b[1m278/278\u001b[0m \u001b[32m━━━━━━━━━━━━━━━━━━━━\u001b[0m\u001b[37m\u001b[0m \u001b[1m24s\u001b[0m 86ms/step - accuracy: 0.9889 - loss: 0.1066 - val_accuracy: 1.0000 - val_loss: 2.1123e-05 - learning_rate: 0.0010\n",
      "Epoch 3/5\n",
      "\u001b[1m278/278\u001b[0m \u001b[32m━━━━━━━━━━━━━━━━━━━━\u001b[0m\u001b[37m\u001b[0m \u001b[1m27s\u001b[0m 96ms/step - accuracy: 0.9919 - loss: 0.0782 - val_accuracy: 0.9988 - val_loss: 0.0135 - learning_rate: 0.0010\n",
      "Epoch 4/5\n",
      "\u001b[1m278/278\u001b[0m \u001b[32m━━━━━━━━━━━━━━━━━━━━\u001b[0m\u001b[37m\u001b[0m \u001b[1m23s\u001b[0m 84ms/step - accuracy: 0.9958 - loss: 0.0270 - val_accuracy: 0.9985 - val_loss: 0.0086 - learning_rate: 0.0010\n",
      "Epoch 5/5\n",
      "\u001b[1m278/278\u001b[0m \u001b[32m━━━━━━━━━━━━━━━━━━━━\u001b[0m\u001b[37m\u001b[0m \u001b[1m0s\u001b[0m 69ms/step - accuracy: 0.9963 - loss: 0.0281\n",
      "Epoch 5: ReduceLROnPlateau reducing learning rate to 0.00020000000949949026.\n",
      "\u001b[1m278/278\u001b[0m \u001b[32m━━━━━━━━━━━━━━━━━━━━\u001b[0m\u001b[37m\u001b[0m \u001b[1m26s\u001b[0m 94ms/step - accuracy: 0.9963 - loss: 0.0282 - val_accuracy: 0.9960 - val_loss: 0.0171 - learning_rate: 0.0010\n"
     ]
    }
   ],
   "source": [
    "from tensorflow.keras.callbacks import ReduceLROnPlateau\n",
    "\n",
    "print(\"\\nStarting model training with data generators...\")\n",
    "\n",
    "# Define the learning rate scheduler callback\n",
    "reduce_lr = ReduceLROnPlateau(monitor='val_loss',\n",
    "                              factor=0.2,    # Reduce LR by a factor of 5\n",
    "                              patience=3,    # Number of epochs with no improvement before reducing LR\n",
    "                              verbose=1,     # Print a message when LR is reduced\n",
    "                              min_lr=0.00001) # Minimum learning rate\n",
    "# The 'workers' argument is removed as it's handled automatically by modern TensorFlow\n",
    "history = model.fit(\n",
    "    training_generator,\n",
    "    validation_data=validation_generator,\n",
    "    epochs= 5,\n",
    "    callbacks=[reduce_lr]\n",
    ")\n"
   ]
  },
  {
   "cell_type": "code",
   "execution_count": 7,
   "id": "1c9e1460",
   "metadata": {
    "execution": {
     "iopub.execute_input": "2025-06-25T11:49:08.870921Z",
     "iopub.status.busy": "2025-06-25T11:49:08.870125Z",
     "iopub.status.idle": "2025-06-25T11:49:16.927341Z",
     "shell.execute_reply": "2025-06-25T11:49:16.926462Z"
    },
    "id": "wwLvphEsLyPJ",
    "papermill": {
     "duration": 8.124126,
     "end_time": "2025-06-25T11:49:16.929265",
     "exception": false,
     "start_time": "2025-06-25T11:49:08.805139",
     "status": "completed"
    },
    "tags": []
   },
   "outputs": [
    {
     "name": "stdout",
     "output_type": "stream",
     "text": [
      "\n",
      "--- Starting Bulletproof Evaluation ---\n",
      "Iterating through the test generator ONCE to get predictions and labels...\n",
      "Processed batch 10/93\n",
      "Processed batch 20/93\n",
      "Processed batch 30/93\n",
      "Processed batch 40/93\n",
      "Processed batch 50/93\n",
      "Processed batch 60/93\n",
      "Processed batch 70/93\n",
      "Processed batch 80/93\n",
      "Processed batch 90/93\n",
      "\n",
      "--- Final, Trustworthy Results ---\n",
      "\n",
      "TRUE Test Accuracy: 0.9958\n",
      "\n",
      "Classification Report:\n",
      "              precision    recall  f1-score   support\n",
      "\n",
      "      Forest       1.00      1.00      1.00       988\n",
      "       Water       1.00      1.00      1.00       988\n",
      " Agriculture       1.00      1.00      1.00       988\n",
      "  Settlement       1.00      1.00      1.00       988\n",
      "      Mining       1.00      0.97      0.99       988\n",
      "      Barren       0.98      1.00      0.99       988\n",
      "\n",
      "    accuracy                           1.00      5928\n",
      "   macro avg       1.00      1.00      1.00      5928\n",
      "weighted avg       1.00      1.00      1.00      5928\n",
      "\n",
      "\n",
      "Confusion Matrix:\n"
     ]
    },
    {
     "data": {
      "image/png": "[encoded data removed]",
      "text/plain": [
       "<Figure size 1000x800 with 2 Axes>"
      ]
     },
     "metadata": {},
     "output_type": "display_data"
    },
    {
     "name": "stdout",
     "output_type": "stream",
     "text": [
      "\n",
      "✅ Evaluation complete!\n"
     ]
    }
   ],
   "source": [
    "# --- STEP 7: BULLETPROOF MODEL EVALUATION ---\n",
    "from sklearn.metrics import classification_report, confusion_matrix, accuracy_score\n",
    "import numpy as np\n",
    "import seaborn as sns\n",
    "import matplotlib.pyplot as plt\n",
    "\n",
    "print(\"\\n--- Starting Bulletproof Evaluation ---\")\n",
    "print(\"Iterating through the test generator ONCE to get predictions and labels...\")\n",
    "\n",
    "all_predictions = []\n",
    "all_true_labels = []\n",
    "\n",
    "# Ensure the generator is at the start\n",
    "testing_generator.on_epoch_end()\n",
    "\n",
    "# Loop through every batch in the generator\n",
    "for i in range(len(testing_generator)):\n",
    "    # Get one batch of data and its true labels\n",
    "    X_batch, y_batch_one_hot = testing_generator[i]\n",
    "\n",
    "    # Make predictions on this single batch\n",
    "    # Using predict_on_batch is efficient for manual loops\n",
    "    preds_batch = model.predict_on_batch(X_batch)\n",
    "\n",
    "    # Convert predictions (probabilities) and true labels (one-hot) to class indices\n",
    "    preds_classes = np.argmax(preds_batch, axis=1)\n",
    "    true_classes = np.argmax(y_batch_one_hot, axis=1)\n",
    "\n",
    "    # Append the results from this batch to our master lists\n",
    "    all_predictions.extend(preds_classes)\n",
    "    all_true_labels.extend(true_classes)\n",
    "    \n",
    "    # Optional: Print progress so you know it's working\n",
    "    if (i + 1) % 10 == 0:\n",
    "        print(f\"Processed batch {i + 1}/{len(testing_generator)}\")\n",
    "\n",
    "# Convert the lists to NumPy arrays for calculations\n",
    "all_predictions = np.array(all_predictions)\n",
    "all_true_labels = np.array(all_true_labels)\n",
    "\n",
    "# --- Final, Reliable Results ---\n",
    "# Now that we have perfectly aligned arrays, calculate everything.\n",
    "print(\"\\n--- Final, Trustworthy Results ---\")\n",
    "\n",
    "# 1. Overall Accuracy Score\n",
    "# This will be the TRUE accuracy of your model.\n",
    "final_accuracy = accuracy_score(all_true_labels, all_predictions)\n",
    "print(f\"\\nTRUE Test Accuracy: {final_accuracy:.4f}\")\n",
    "\n",
    "# 2. Classification Report\n",
    "print(\"\\nClassification Report:\")\n",
    "print(classification_report(all_true_labels, all_predictions, target_names=CLASS_NAMES))\n",
    "\n",
    "# 3. Confusion Matrix\n",
    "print(\"\\nConfusion Matrix:\")\n",
    "cm = confusion_matrix(all_true_labels, all_predictions)\n",
    "plt.figure(figsize=(10, 8))\n",
    "sns.heatmap(cm, annot=True, fmt='d', cmap='Blues',\n",
    "            xticklabels=CLASS_NAMES, yticklabels=CLASS_NAMES)\n",
    "plt.title('Final, Trustworthy Confusion Matrix')\n",
    "plt.ylabel('True Label')\n",
    "plt.xlabel('Predicted Label')\n",
    "plt.show()\n",
    "\n",
    "# Close the file handle for the testing generator\n",
    "testing_generator.close()\n",
    "\n",
    "print(\"\\n✅ Evaluation complete!\")"
   ]
  },
  {
   "cell_type": "code",
   "execution_count": null,
   "id": "592fdae7",
   "metadata": {
    "papermill": {
     "duration": 0.070667,
     "end_time": "2025-06-25T11:49:17.065143",
     "exception": false,
     "start_time": "2025-06-25T11:49:16.994476",
     "status": "completed"
    },
    "tags": []
   },
   "outputs": [],
   "source": []
  }
 ],
 "metadata": {
  "colab": {
   "provenance": []
  },
  "kaggle": {
   "accelerator": "nvidiaTeslaT4",
   "dataSources": [
    {
     "datasetId": 7736668,
     "sourceId": 12276917,
     "sourceType": "datasetVersion"
    }
   ],
   "dockerImageVersionId": 31040,
   "isGpuEnabled": true,
   "isInternetEnabled": true,
   "language": "python",
   "sourceType": "notebook"
  },
  "kernelspec": {
   "display_name": "Python 3",
   "language": "python",
   "name": "python3"
  },
  "language_info": {
   "codemirror_mode": {
    "name": "ipython",
    "version": 3
   },
   "file_extension": ".py",
   "mimetype": "text/x-python",
   "name": "python",
   "nbconvert_exporter": "python",
   "pygments_lexer": "ipython3",
   "version": "3.11.11"
  },
  "papermill": {
   "default_parameters": {},
   "duration": 417.545534,
   "end_time": "2025-06-25T11:49:20.196954",
   "environment_variables": {},
   "exception": null,
   "input_path": "__notebook__.ipynb",
   "output_path": "__notebook__.ipynb",
   "parameters": {},
   "start_time": "2025-06-25T11:42:22.651420",
   "version": "2.6.0"
  }
 },
 "nbformat": 4,
 "nbformat_minor": 5
}
