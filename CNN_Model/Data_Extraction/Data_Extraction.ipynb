{
  "cells": [
    {
      "cell_type": "code",
      "execution_count": null,
      "metadata": {
        "colab": {
          "base_uri": "https://localhost:8080/"
        },
        "id": "zRwNy8Zutwiq",
        "outputId": "dcb4bdce-8161-4b92-9660-9da9eb000225"
      },
      "outputs": [
        {
          "output_type": "stream",
          "name": "stdout",
          "text": [
            "Connecting to Google Drive...\n",
            "Mounted at /content/drive\n",
            "Drive connected.\n"
          ]
        }
      ],
      "source": [
        "print(\"Connecting to Google Drive...\")\n",
        "from google.colab import drive\n",
        "drive.mount('/content/drive')\n",
        "print(\"Drive connected.\")"
      ]
    },
    {
      "cell_type": "code",
      "execution_count": null,
      "metadata": {
        "colab": {
          "base_uri": "https://localhost:8080/"
        },
        "id": "YPXOtOZOt2sX",
        "outputId": "33d49f35-d866-49ae-ca1e-6edcef814c8c"
      },
      "outputs": [
        {
          "output_type": "stream",
          "name": "stdout",
          "text": [
            "Collecting rasterio\n",
            "  Downloading rasterio-1.4.3-cp311-cp311-manylinux_2_17_x86_64.manylinux2014_x86_64.whl.metadata (9.1 kB)\n",
            "Requirement already satisfied: pandas in /usr/local/lib/python3.11/dist-packages (2.2.2)\n",
            "Collecting affine (from rasterio)\n",
            "  Downloading affine-2.4.0-py3-none-any.whl.metadata (4.0 kB)\n",
            "Requirement already satisfied: attrs in /usr/local/lib/python3.11/dist-packages (from rasterio) (25.3.0)\n",
            "Requirement already satisfied: certifi in /usr/local/lib/python3.11/dist-packages (from rasterio) (2025.6.15)\n",
            "Requirement already satisfied: click>=4.0 in /usr/local/lib/python3.11/dist-packages (from rasterio) (8.2.1)\n",
            "Collecting cligj>=0.5 (from rasterio)\n",
            "  Downloading cligj-0.7.2-py3-none-any.whl.metadata (5.0 kB)\n",
            "Requirement already satisfied: numpy>=1.24 in /usr/local/lib/python3.11/dist-packages (from rasterio) (2.0.2)\n",
            "Collecting click-plugins (from rasterio)\n",
            "  Downloading click_plugins-1.1.1-py2.py3-none-any.whl.metadata (6.4 kB)\n",
            "Requirement already satisfied: pyparsing in /usr/local/lib/python3.11/dist-packages (from rasterio) (3.2.3)\n",
            "Requirement already satisfied: python-dateutil>=2.8.2 in /usr/local/lib/python3.11/dist-packages (from pandas) (2.9.0.post0)\n",
            "Requirement already satisfied: pytz>=2020.1 in /usr/local/lib/python3.11/dist-packages (from pandas) (2025.2)\n",
            "Requirement already satisfied: tzdata>=2022.7 in /usr/local/lib/python3.11/dist-packages (from pandas) (2025.2)\n",
            "Requirement already satisfied: six>=1.5 in /usr/local/lib/python3.11/dist-packages (from python-dateutil>=2.8.2->pandas) (1.17.0)\n",
            "Downloading rasterio-1.4.3-cp311-cp311-manylinux_2_17_x86_64.manylinux2014_x86_64.whl (22.2 MB)\n",
            "\u001b[2K   \u001b[90m━━━━━━━━━━━━━━━━━━━━━━━━━━━━━━━━━━━━━━━━\u001b[0m \u001b[32m22.2/22.2 MB\u001b[0m \u001b[31m85.2 MB/s\u001b[0m eta \u001b[36m0:00:00\u001b[0m\n",
            "\u001b[?25hDownloading cligj-0.7.2-py3-none-any.whl (7.1 kB)\n",
            "Downloading affine-2.4.0-py3-none-any.whl (15 kB)\n",
            "Downloading click_plugins-1.1.1-py2.py3-none-any.whl (7.5 kB)\n",
            "Installing collected packages: cligj, click-plugins, affine, rasterio\n",
            "Successfully installed affine-2.4.0 click-plugins-1.1.1 cligj-0.7.2 rasterio-1.4.3\n"
          ]
        }
      ],
      "source": [
        "# STEP 1: SETUP AND INSTALLATIONS\n",
        "# ==============================================================================\n",
        "# Installs the necessary library in your Colab/Jupyter environment.\n",
        "!pip install rasterio pandas\n",
        "\n",
        "import pandas as pd\n",
        "import numpy as np\n",
        "import rasterio\n",
        "from rasterio.windows import Window\n",
        "import json\n",
        "import matplotlib.pyplot as plt\n",
        "from matplotlib.colors import ListedColormap"
      ]
    },
    {
      "cell_type": "code",
      "execution_count": 24,
      "metadata": {
        "id": "JgUdt7Uat_D8"
      },
      "outputs": [],
      "source": [
        "# STEP 2: CONFIGURATION - SET YOUR FILE PATHS\n",
        "# ==============================================================================\n",
        "# ---!!! IMPORTANT: YOU MUST UPDATE THESE THREE PATHS !!!---\n",
        "\n",
        "# 1. The path to your LARGE satellite image GeoTIFF file.\n",
        "full_image_path = '/content/drive/My Drive/Singrauli_uncertainity/Singrauli_Merged_Image.tif'\n",
        "\n",
        "# 2. The path to your SMALL CSV file containing the coordinates and class labels.\n",
        "points_csv_path = '/content/drive/My Drive/Singrauli_uncertainity/Singrauli.csv'\n",
        "\n",
        "# 3. Path and filename for the NEW file we will create to store the processed data.\n",
        "processed_data_path = '/content/drive/My Drive/GEE_Exports/cnn_prepared_patches.npz'\n",
        "\n",
        "# Define the size of the square patches you want to create (e.g., 10x10 pixels)\n",
        "PATCH_SIZE = 10"
      ]
    },
    {
      "cell_type": "code",
      "execution_count": 25,
      "metadata": {
        "id": "pkxV1aPcuAQs"
      },
      "outputs": [],
      "source": [
        "# STEP 3: FUNCTION TO EXTRACT THE PATCHES\n",
        "# ==============================================================================\n",
        "def create_patch_dataset(image_path, csv_path, patch_size):\n",
        "    \"\"\"\n",
        "    Uses a CSV of point coordinates to extract image patches from a large GeoTIFF.\n",
        "\n",
        "    Returns:\n",
        "        A tuple of (numpy.ndarray, numpy.ndarray): (image_patches, labels)\n",
        "    \"\"\"\n",
        "    try:\n",
        "        points_df = pd.read_csv(csv_path)\n",
        "        src_image = rasterio.open(image_path)\n",
        "    except FileNotFoundError as e:\n",
        "        print(f\"ERROR: A file was not found. Please check your paths. Details: {e}\")\n",
        "        return None, None\n",
        "\n",
        "    print(f\"Loaded {len(points_df)} training point locations.\")\n",
        "    print(f\"Image has {src_image.count} bands.\")\n",
        "\n",
        "    X_patches = []  # To store the image patch data (numpy arrays)\n",
        "    y_labels = []   # To store the class labels\n",
        "\n",
        "    print(f\"\\nExtracting {patch_size}x{patch_size} patches... (This can be slow)\")\n",
        "\n",
        "    # Loop through each point in the CSV file\n",
        "    for index, row in points_df.iterrows():\n",
        "        try:\n",
        "            # Use the direct latitude and longitude columns from your CSV\n",
        "            lon = row['longitude']\n",
        "            lat = row['latitude']\n",
        "            label = row['class']\n",
        "\n",
        "            # Convert the geographic coordinate (lon, lat) to pixel coordinate (col, row)\n",
        "            py, px = src_image.index(lon, lat)\n",
        "\n",
        "            # Define the window to read around the center pixel\n",
        "            window = Window(px - patch_size // 2, py - patch_size // 2, patch_size, patch_size)\n",
        "\n",
        "            # Read the data from the image window (this is the patch)\n",
        "            patch = src_image.read(window=window)\n",
        "\n",
        "            # Ensure the patch has the correct dimensions\n",
        "            if patch.shape[1] == patch_size and patch.shape[2] == patch_size:\n",
        "                # Re-order axes from (bands, height, width) to (height, width, bands)\n",
        "                patch = np.moveaxis(patch, 0, -1)\n",
        "\n",
        "                X_patches.append(patch)\n",
        "                y_labels.append(label)\n",
        "\n",
        "        except Exception:\n",
        "            # This skips any points that are too close to the edge of the image\n",
        "            pass\n",
        "\n",
        "    src_image.close() # Close the main image file\n",
        "    print(f\"\\nSuccessfully extracted {len(X_patches)} valid patches.\")\n",
        "\n",
        "    # Convert the lists to powerful NumPy arrays\n",
        "    return np.array(X_patches), np.array(y_labels)"
      ]
    },
    {
      "cell_type": "code",
      "execution_count": 26,
      "metadata": {
        "colab": {
          "base_uri": "https://localhost:8080/"
        },
        "id": "AaNF1UXruPXf",
        "outputId": "8c86e027-6671-4bfe-e5a8-5231a8ebe87a"
      },
      "outputs": [
        {
          "output_type": "stream",
          "name": "stdout",
          "text": [
            "Loaded 123418 training point locations.\n",
            "Image has 11 bands.\n",
            "\n",
            "Extracting 10x10 patches... (This can be slow)\n",
            "\n",
            "Successfully extracted 123418 valid patches.\n",
            "\n",
            "Saving 123418 patches to a compressed NPZ file...\n",
            "✅ Data successfully saved to: /content/drive/My Drive/GEE_Exports/cnn_prepared_patches.npz\n"
          ]
        }
      ],
      "source": [
        "# STEP 4: RUN THE PROCESS AND SAVE THE OUTPUT\n",
        "# ==============================================================================\n",
        "# Run the function to get the data\n",
        "X_data, y_data = create_patch_dataset(full_image_path, points_csv_path, PATCH_SIZE)\n",
        "\n",
        "# Save the final arrays to a single compressed .npz file\n",
        "if X_data is not None and X_data.shape[0] > 0:\n",
        "    print(f\"\\nSaving {X_data.shape[0]} patches to a compressed NPZ file...\")\n",
        "    np.savez_compressed(processed_data_path, x_data=X_data, y_data=y_data)\n",
        "    print(f\"✅ Data successfully saved to: {processed_data_path}\")\n",
        "else:\n",
        "    print(\"No valid patches were extracted, so no file was saved.\")"
      ]
    },
    {
      "cell_type": "code",
      "execution_count": 30,
      "metadata": {
        "colab": {
          "base_uri": "https://localhost:8080/",
          "height": 369
        },
        "id": "QjVetrZPua6d",
        "outputId": "08b0c49a-ac58-4c44-87de-6e2ac3791f33"
      },
      "outputs": [
        {
          "output_type": "stream",
          "name": "stdout",
          "text": [
            "\n",
            "Loading data from: /content/drive/My Drive/GEE_Exports/cnn_prepared_patches.npz\n",
            "\n",
            "--- File Contents Summary ---\n",
            "Arrays found in file: ['x_data', 'y_data']\n",
            "Shape of image patches array ('x_data'): (123418, 10, 10, 11)\n",
            "Shape of labels array ('y_data'): (123418,)\n",
            "-----------------------------\n",
            "\n",
            "Displaying a few sample patches from the dataset...\n",
            "\n"
          ]
        },
        {
          "output_type": "display_data",
          "data": {
            "text/plain": [
              "<Figure size 1500x700 with 10 Axes>"
            ],
            "image/png": "[encoded data removed]"
          },
          "metadata": {}
        }
      ],
      "source": [
        "# STEP 5: LOAD THE NPZ FILE AND INSPECT ITS CONTENTS\n",
        "# ==============================================================================\n",
        "try:\n",
        "    print(f\"\\nLoading data from: {processed_data_path}\")\n",
        "    # Load the entire .npz file into a data object\n",
        "    data = np.load(processed_data_path)\n",
        "\n",
        "    # --- Print a summary of the contents ---\n",
        "    print(\"\\n--- File Contents Summary ---\")\n",
        "    # The .files attribute shows the names of the arrays saved in the file\n",
        "    print(f\"Arrays found in file: {data.files}\")\n",
        "\n",
        "    # Access the individual arrays using their names as keys\n",
        "    X_data = data['x_data']\n",
        "    y_data = data['y_data']\n",
        "\n",
        "    # Print the shapes to confirm the dimensions\n",
        "    print(f\"Shape of image patches array ('x_data'): {X_data.shape}\")\n",
        "    print(f\"Shape of labels array ('y_data'): {y_data.shape}\")\n",
        "    print(\"-----------------------------\\n\")\n",
        "    print(\"Displaying a few sample patches from the dataset...\\n\")\n",
        "\n",
        "    # Define your class names and colors for the plot titles\n",
        "    # Make sure this matches the order of your class IDs (0, 1, 2, ...)\n",
        "    class_names = [\n",
        "        'Forest',       # 0\n",
        "        'Water',        # 1\n",
        "        'Agriculture',  # 2\n",
        "        'Settlement',   # 3\n",
        "        'Mining',       # 4\n",
        "        'Barren'        # 5\n",
        "    ]\n",
        "\n",
        "    # Function to normalize bands for display (same as before)\n",
        "    def normalize_for_display(patch):\n",
        "        # Select the Red, Green, Blue bands for a true-color view\n",
        "        # Assuming the order is B2, B3, B4, ... -> we need bands at index 0, 1, 2\n",
        "        # If your band order is different, you may need to change these indices\n",
        "        red = patch[:, :, 2] # B4 is the 3rd band\n",
        "        green = patch[:, :, 1] # B3 is the 2nd band\n",
        "        blue = patch[:, :, 0] # B2 is the 1st band\n",
        "\n",
        "        rgb = np.dstack((red, green, blue))\n",
        "\n",
        "        # Scale for viewing\n",
        "        rgb_scaled = (rgb / 4000.0).astype(np.float32)\n",
        "        return np.clip(rgb_scaled, 0, 1)\n",
        "\n",
        "    # Create a plot with a few sample images\n",
        "    plt.figure(figsize=(15, 7))\n",
        "    num_samples_to_show = 10\n",
        "    for i in range(num_samples_to_show):\n",
        "        # Choose a random index to display\n",
        "        idx = np.random.randint(0, len(X_data))\n",
        "\n",
        "        # Get the patch and its label\n",
        "        image_patch = X_data[idx]\n",
        "        label_id = y_data[idx]\n",
        "\n",
        "        # Prepare the image for plotting\n",
        "        display_patch = normalize_for_display(image_patch)\n",
        "\n",
        "        # Create a subplot for each image\n",
        "        ax = plt.subplot(1, num_samples_to_show, i + 1)\n",
        "        plt.imshow(display_patch)\n",
        "        plt.title(f\"Class: {label_id}\\n({class_names[label_id]})\")\n",
        "        plt.axis(\"off\")\n",
        "\n",
        "    plt.show()\n",
        "\n",
        "except FileNotFoundError:\n",
        "    print(f\"\\nERROR: The file was not found at '{processed_data_path}'.\")\n",
        "    print(\"Please check the path and make sure the file exists.\")\n",
        "except Exception as e:\n",
        "    print(f\"An error occurred: {e}\")"
      ]
    },
    {
      "cell_type": "code",
      "source": [],
      "metadata": {
        "id": "NMOmH6S7SJwQ"
      },
      "execution_count": null,
      "outputs": []
    }
  ],
  "metadata": {
    "colab": {
      "provenance": []
    },
    "kernelspec": {
      "display_name": "Python 3",
      "name": "python3"
    },
    "language_info": {
      "name": "python"
    }
  },
  "nbformat": 4,
  "nbformat_minor": 0
}